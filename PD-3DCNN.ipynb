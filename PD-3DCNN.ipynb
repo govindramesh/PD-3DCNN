{
 "cells": [
  {
   "cell_type": "code",
   "execution_count": 1,
   "metadata": {},
   "outputs": [
    {
     "name": "stdout",
     "output_type": "stream",
     "text": [
      "193\n"
     ]
    }
   ],
   "source": [
    "%matplotlib inline\n",
    "\n",
    "import numpy as np \n",
    "import pandas as pd \n",
    "import pydicom\n",
    "import os\n",
    "import scipy.ndimage\n",
    "import matplotlib.pyplot as plt\n",
    "from tqdm import tqdm\n",
    "\n",
    "TYPE = 'NC'\n",
    "data_dir = '/Users/govindramesh/Horizon/SPECT-{}w'.format(TYPE) #path to parent folder with scans\n",
    "scans = [] #list to hold dicom files\n",
    "\n",
    "for root, subdirs, files in os.walk(data_dir):\n",
    "    for file in files:    \n",
    "        if file != '.DS_Store': #skip hidden files\n",
    "            scans.append(pydicom.read_file(root + \"/\" + file))\n",
    "\n",
    "for x in range(len(scans[:0])): #goes through each patient in the list\n",
    "    for i in range(scans[x].pixel_array.shape[0]): #goes through each scan (91 total)\n",
    "        #print(x,i)\n",
    "        plt.imshow(scans[x].pixel_array[i,:,:], cmap = 'gray')\n",
    "        plt.show()\n",
    "\n",
    "print(len(scans))"
   ]
  },
  {
   "cell_type": "code",
   "execution_count": 2,
   "metadata": {},
   "outputs": [
    {
     "name": "stdout",
     "output_type": "stream",
     "text": [
      "193\n"
     ]
    }
   ],
   "source": [
    "scanspa = [] #list to hold pixel arrays from dicom files\n",
    "for x in range(len(scans)):\n",
    "    scanspa.append(scans[x].pixel_array)\n",
    "    #scanspa.append(np.flip(scans[x].pixel_array, axis = 2)) #flips scans horizontally for data augmentation\n",
    "    \n",
    "print(len(scanspa))"
   ]
  },
  {
   "cell_type": "code",
   "execution_count": 15,
   "metadata": {},
   "outputs": [
    {
     "name": "stdout",
     "output_type": "stream",
     "text": [
      "39\n"
     ]
    },
    {
     "data": {
      "image/png": "[encoded data removed]",
      "text/plain": [
       "<Figure size 432x288 with 1 Axes>"
      ]
     },
     "metadata": {},
     "output_type": "display_data"
    },
    {
     "name": "stdout",
     "output_type": "stream",
     "text": [
      "(91, 109, 91) int64\n"
     ]
    },
    {
     "data": {
      "image/png": "[encoded data removed]",
      "text/plain": [
       "<Figure size 432x288 with 1 Axes>"
      ]
     },
     "metadata": {},
     "output_type": "display_data"
    }
   ],
   "source": [
    "#average of all scans\n",
    "scans_mean = np.mean(scanspa, axis=0)\n",
    "for x in range(39,40):\n",
    "    print(x)\n",
    "    plt.imshow(scans_mean[x], cmap = 'gray')\n",
    "    plt.show()\n",
    "\n",
    "scans_mean = scans_mean.astype(int)\n",
    "print(scans_mean.shape, scans_mean.dtype)\n",
    "for i in range(len(scanspa)):\n",
    "    scanspa[i]=scanspa[i]-scans_mean\n",
    "    "
   ]
  },
  {
   "cell_type": "code",
   "execution_count": 17,
   "metadata": {},
   "outputs": [
    {
     "data": {
      "image/png": "[encoded data removed]",
      "text/plain": [
       "<Figure size 432x288 with 1 Axes>"
      ]
     },
     "metadata": {},
     "output_type": "display_data"
    }
   ],
   "source": [
    "meanscanmask = [] #list to hold bool/mask representation of the mean scan\n",
    "\n",
    "THRESHOLD = .35\n",
    "for x in range(len(scans_mean)):\n",
    "    meanscanmask.append(scans_mean[x]<THRESHOLD*32767) #condition determining bool value\n",
    "    \n",
    "plt.imshow(meanscanmask[39], cmap = 'gray')\n",
    "plt.show()"
   ]
  },
  {
   "cell_type": "code",
   "execution_count": 54,
   "metadata": {},
   "outputs": [
    {
     "name": "stdout",
     "output_type": "stream",
     "text": [
      "33 55\n",
      "25 63\n",
      "39\n"
     ]
    }
   ],
   "source": [
    "#create rectangular box around area containing mask\n",
    "mask_dim_x = []\n",
    "mask_dim_y = []\n",
    "mask_dim_z = []\n",
    "\n",
    "for a in range(len(scans_mean)):\n",
    "    mask_dim_x.append(np.where(meanscanmask[a]==False)[0]) #returns x indices where false\n",
    "    mask_dim_y.append(np.where(meanscanmask[a]==False)[1]) #returns y indices where false\n",
    "    #print(np.where(meanscanmask[a]==False))\n",
    "    if(np.where(meanscanmask[a]==False)[0].size>0):mask_dim_z.append(a)\n",
    "\n",
    "#print(max(mask_dim_z))\n",
    "\n",
    "\n",
    "max_index = 0 #index of the slice with the highest amount of threshold-exceeding values\n",
    "\n",
    "for c in range(len(meanscanmask)):\n",
    "    if len(mask_dim_x[c]) > len(mask_dim_x[max_index]): max_index = c\n",
    "    \n",
    "    \n",
    "#uses max and min indices of contour mask to create rectangular mask\n",
    "meanscanmask[max_index][mask_dim_x[max_index].min() : mask_dim_x[max_index].max()+1,\n",
    "                        mask_dim_y[max_index].min() : mask_dim_y[max_index].max()+1] = False\n",
    "\n",
    "\n",
    "#mask to be used on all the scans\n",
    "FINAL_MASK = meanscanmask[max_index]\n",
    "\n",
    "print(mask_dim_x[max_index].min(), mask_dim_x[max_index].max())\n",
    "print(mask_dim_y[max_index].min(), mask_dim_y[max_index].max())\n",
    "\n",
    "print(max_index)\n",
    "#print(FINAL_MASK[mask_dim_x[max_index].min() : mask_dim_x[max_index].max()+1,\n",
    "#                 mask_dim_y[max_index].min() : mask_dim_y[max_index].max()+1])"
   ]
  },
  {
   "cell_type": "code",
   "execution_count": 50,
   "metadata": {},
   "outputs": [],
   "source": [
    "maskedscans = [] #list to hold scans with masks applied\n",
    "for a in range(len(scanspa)):\n",
    "    temp = []\n",
    "    for b in range(len(scanspa[a][min(mask_dim_z):max(mask_dim_z)])):\n",
    "        #applying bool mask to original scans\n",
    "        temp.append(np.ma.masked_where(FINAL_MASK, scanspa[a][b]))\n",
    "    maskedscans.append(temp)"
   ]
  },
  {
   "cell_type": "code",
   "execution_count": null,
   "metadata": {},
   "outputs": [],
   "source": [
    "#save each masked scan to folders\n",
    "for a in tqdm(range(len(maskedscans[:1]))):\n",
    "    #os.makedirs('/Users/govindramesh/Horizon/FINAL_IMAGES/{}/{}-{}'.format(TYPE,TYPE,a), exist_ok = True)\n",
    "    for b in range(len(maskedscans[a])):\n",
    "        #print(a,b)\n",
    "        #plt.imsave('/Users/govindramesh/Horizon/FINAL_IMAGES/{}/{}-{}/{}-{}-{}.tiff'.format(TYPE,TYPE,a,TYPE,a,b), \n",
    "        #           maskedscans[a][b], cmap = \"gray\")\n",
    "        #plt.imshow(maskedscans[a][b], cmap = 'gray')\n",
    "        #plt.show()\n",
    "        #plt.imshow(scanspa[a][b], cmap = 'gray')\n",
    "        #plt.show()"
   ]
  },
  {
   "cell_type": "code",
   "execution_count": 51,
   "metadata": {},
   "outputs": [
    {
     "name": "stderr",
     "output_type": "stream",
     "text": [
      "100%|██████████| 193/193 [00:00<00:00, 1016.32it/s]\n"
     ]
    }
   ],
   "source": [
    "for a in tqdm(range(len(maskedscans))):\n",
    "    for b in range(len(maskedscans[a])):\n",
    "        maskedscans[a][b] = maskedscans[a][b].compressed().reshape(23,39,1)"
   ]
  },
  {
   "cell_type": "code",
   "execution_count": 52,
   "metadata": {},
   "outputs": [
    {
     "name": "stderr",
     "output_type": "stream",
     "text": [
      "100%|██████████| 193/193 [00:00<00:00, 3886.90it/s]\n"
     ]
    }
   ],
   "source": [
    "for a in tqdm(range(len(maskedscans))):    \n",
    "    maskedscans[a]= np.array(maskedscans[a])"
   ]
  },
  {
   "cell_type": "code",
   "execution_count": 53,
   "metadata": {},
   "outputs": [
    {
     "name": "stderr",
     "output_type": "stream",
     "text": [
      "100%|██████████| 193/193 [00:00<00:00, 30760.78it/s]\n"
     ]
    },
    {
     "data": {
      "text/plain": [
       "(193, 18, 23, 39, 1)"
      ]
     },
     "execution_count": 53,
     "metadata": {},
     "output_type": "execute_result"
    }
   ],
   "source": [
    "os.makedirs('/Users/govindramesh/Horizon/FINAL_IMAGES', exist_ok = True)\n",
    "FINAL_IMAGES = []\n",
    "for a in tqdm(range(len(maskedscans))):\n",
    "    FINAL_IMAGES.append(maskedscans[a])\n",
    "            \n",
    "FINAL_IMAGES = np.array(FINAL_IMAGES)\n",
    "FINAL_IMAGES.shape\n",
    "#np.save('/Users/govindramesh/Horizon/FINAL_IMAGES/{}wa'.format(TYPE), FINAL_IMAGES)\n"
   ]
  },
  {
   "cell_type": "code",
   "execution_count": null,
   "metadata": {},
   "outputs": [],
   "source": []
  },
  {
   "cell_type": "code",
   "execution_count": null,
   "metadata": {},
   "outputs": [],
   "source": []
  },
  {
   "cell_type": "code",
   "execution_count": null,
   "metadata": {},
   "outputs": [],
   "source": []
  }
 ],
 "metadata": {
  "kernelspec": {
   "display_name": "Python 3",
   "language": "python",
   "name": "python3"
  },
  "language_info": {
   "codemirror_mode": {
    "name": "ipython",
    "version": 3
   },
   "file_extension": ".py",
   "mimetype": "text/x-python",
   "name": "python",
   "nbconvert_exporter": "python",
   "pygments_lexer": "ipython3",
   "version": "3.6.7"
  }
 },
 "nbformat": 4,
 "nbformat_minor": 2
}
