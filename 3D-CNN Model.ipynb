{
  "nbformat": 4,
  "nbformat_minor": 0,
  "metadata": {
    "colab": {
      "name": "3D-CNN Model Colab",
      "provenance": [],
      "collapsed_sections": []
    },
    "kernelspec": {
      "name": "python3",
      "display_name": "Python 3"
    },
    "accelerator": "GPU"
  },
  "cells": [
    {
      "cell_type": "code",
      "metadata": {
        "id": "qswEgYr0A-Pq",
        "colab": {
          "base_uri": "https://localhost:8080/"
        },
        "outputId": "7ff0a450-9318-4332-b852-6c2e973d6f3f"
      },
      "source": [
        "from google.colab import drive\n",
        "drive.mount('/content/drive')"
      ],
      "execution_count": 1,
      "outputs": [
        {
          "output_type": "stream",
          "text": [
            "Mounted at /content/drive\n"
          ],
          "name": "stdout"
        }
      ]
    },
    {
      "cell_type": "code",
      "metadata": {
        "id": "2zBun5Yz1fuc"
      },
      "source": [
        "import random\n",
        "import tensorflow as tf\n",
        "import keras\n",
        "from keras.models import Sequential\n",
        "from keras.layers import Dense, Flatten, Conv3D, MaxPooling3D, Dropout, BatchNormalization, Activation\n",
        "from keras.utils import to_categorical\n",
        "from keras.initializers import he_uniform as he\n",
        "import numpy as np\n",
        "import matplotlib.pyplot as plt\n",
        "from sklearn.metrics import confusion_matrix\n",
        "from sklearn.model_selection import KFold, StratifiedKFold"
      ],
      "execution_count": 2,
      "outputs": []
    },
    {
      "cell_type": "code",
      "metadata": {
        "id": "MUuqdJuF1ifE"
      },
      "source": [
        "NC = np.load('/content/drive/Shared drives/Horizon - Govind/NCwn.npy')\n",
        "PD = np.load('/content/drive/Shared drives/Horizon - Govind/PDwn.npy')\n",
        "\n",
        "data = []\n",
        "dataNC = []\n",
        "dataPD = []\n",
        "\n",
        "for i in range(len(NC)):\n",
        "    dataNC.append([NC[i],0])\n",
        "    data.append([NC[i][15:65],0])\n",
        "    #data.append([NC[i],0])\n",
        "\n",
        "for i in range(len(PD)):\n",
        "    dataPD.append([PD[i],1])\n",
        "    data.append([PD[i][15:65],1])\n",
        "    #data.append([PD[i],1])\n",
        "\n",
        "data = np.array(data)    \n",
        "dataNC = np.array(dataNC)\n",
        "dataPD = np.array(dataPD)\n",
        "np.random.seed(0)\n",
        "np.random.shuffle(data)\n",
        "np.random.seed(2)\n",
        "np.random.shuffle(dataNC)\n",
        "np.random.seed(2)\n",
        "np.random.shuffle(dataPD)\n",
        "\n",
        "print(len(data))\n",
        "print(len(dataNC))\n",
        "print(len(dataPD))"
      ],
      "execution_count": null,
      "outputs": []
    },
    {
      "cell_type": "code",
      "metadata": {
        "id": "-kvjvOJS113c"
      },
      "source": [
        "X_train = []\n",
        "X_test = []\n",
        "X_train_str = []\n",
        "X_test_str = []\n",
        "\n",
        "for i in range(len(data)-len(data)//10): X_train.append(data[i,0]), X_train.append(np.flip(data[i,0], axis=2))#data augmentation  \n",
        "for i in range(len(data)//10): X_test.append(data[-(i+1),0])\n",
        "\n",
        "for i in range(len(dataNC)-19): X_train_str.append(dataNC[i,0]), X_train_str.append(np.flip(dataNC[i,0], axis=2))      \n",
        "for i in range(19): X_test_str.append(dataNC[-(i+1),0])\n",
        "\n",
        "for i in range(len(dataPD)-60): X_train_str.append(dataPD[i,0]), X_train_str.append(np.flip(dataPD[i,0], axis=2))    \n",
        "for i in range(60): X_test_str.append(dataPD[-(i+1),0])\n",
        "\n",
        "X_train = np.array(X_train)\n",
        "X_test = np.array(X_test)\n",
        "\n",
        "X_train_str = np.array(X_train_str)\n",
        "X_test_str = np.array(X_test_str)\n",
        "np.random.seed(1)\n",
        "np.random.shuffle(X_train_str)\n",
        "np.random.seed(2)\n",
        "np.random.shuffle(X_test_str)\n",
        "##########################################\n",
        "\n",
        "y_train = []\n",
        "y_test = []\n",
        "y_train_str = []\n",
        "y_test_str = []\n",
        "\n",
        "for i in range(len(data)-len(data)//10): y_train.append(data[i,1]), y_train.append(data[i,1])    \n",
        "for i in range(len(data)//10): y_test.append(data[-(i+1),1])\n",
        "\n",
        "for i in range(len(dataNC)-19): y_train_str.append(dataNC[i,1]), y_train_str.append(dataNC[i,1])    \n",
        "for i in range(19): y_test_str.append(dataNC[-(i+1),1])\n",
        "\n",
        "for i in range(len(dataPD)-60): y_train_str.append(dataPD[i,1]), y_train_str.append(dataPD[i,1])    \n",
        "for i in range(60): y_test_str.append(dataPD[-(i+1),1])\n",
        "\n",
        "y_train = np.array(y_train)\n",
        "y_test = np.array(y_test)\n",
        "\n",
        "y_train_str = np.array(y_train_str)\n",
        "y_test_str = np.array(y_test_str)\n",
        "np.random.seed(1)\n",
        "np.random.shuffle(y_train_str)\n",
        "np.random.seed(2)\n",
        "np.random.shuffle(y_test_str)\n",
        "\n",
        "y_train = to_categorical(y_train).astype(np.integer)\n",
        "y_test = to_categorical(y_test).astype(np.integer)\n",
        "y_train_str = to_categorical(y_train_str).astype(np.integer)\n",
        "y_test_str = to_categorical(y_test_str).astype(np.integer)\n",
        "#print(y_test)\n",
        "#print(y_train)"
      ],
      "execution_count": null,
      "outputs": []
    },
    {
      "cell_type": "code",
      "metadata": {
        "id": "5iDmuywBWwsx"
      },
      "source": [
        "counter=0\n",
        "print(len(y_test))\n",
        "print(len(X_test))\n",
        "print(len(y_train))\n",
        "print(len(X_train))\n",
        "print(np.ravel(X_test[0]))\n",
        "for a in range(len(X_test)):\n",
        "  for b in range(len(X_train)):\n",
        "    if np.array_equal(np.ravel(X_test[a]), np.ravel(X_train[b])): print(a,b)\n",
        "for a in range(len(X_test)):\n",
        "  for b in range(len(data)):       \n",
        "    if np.array_equal(np.ravel(X_test[a]), np.ravel(data[b,0])): counter+=1\n",
        "counter"
      ],
      "execution_count": null,
      "outputs": []
    },
    {
      "cell_type": "code",
      "metadata": {
        "id": "LnQRIigb2Y_s"
      },
      "source": [
        "sample_shape = (50, 23, 39, 1)\n",
        "batch_size = 32\n",
        "no_epochs = 25\n",
        "learning_rate = .00001\n",
        "no_classes = 2\n",
        "validation_split = 0.2\n",
        "verbosity = 1"
      ],
      "execution_count": 5,
      "outputs": []
    },
    {
      "cell_type": "code",
      "metadata": {
        "id": "l9fhr9m6yIRI"
      },
      "source": [
        "def create_model():\n",
        "  model = Sequential()\n",
        "  model.add(Conv3D(32, kernel_size=(3, 3, 3), padding = 'same', kernel_initializer=he(), input_shape=sample_shape))\n",
        "  model.add(BatchNormalization())\n",
        "  model.add(Activation('relu'))\n",
        "  model.add(MaxPooling3D(pool_size=(2, 2, 2), padding = 'same'))\n",
        "  model.add(Conv3D(64, kernel_size=(3, 3, 3), padding = 'same', kernel_initializer=he()))\n",
        "  model.add(BatchNormalization())\n",
        "  model.add(Activation('relu'))\n",
        "  model.add(MaxPooling3D(pool_size=(2, 2, 2), padding = 'same'))\n",
        "  model.add(Conv3D(128, kernel_size=(3, 3, 3), padding = 'same', kernel_initializer=he()))\n",
        "  model.add(BatchNormalization())\n",
        "  model.add(Activation('relu'))\n",
        "  model.add(MaxPooling3D(pool_size=(2, 2, 2), padding = 'same'))\n",
        "  model.add(Flatten())\n",
        "  model.add(Dense(256, activation='relu', kernel_initializer=he()))\n",
        "  model.add(Dense(256, activation='relu', kernel_initializer=he()))\n",
        "  model.add(Dense(128, activation='relu', kernel_initializer=he()))\n",
        "  model.add(Dense(no_classes, activation='softmax'))\n",
        "\n",
        "  return model"
      ],
      "execution_count": 7,
      "outputs": []
    },
    {
      "cell_type": "code",
      "metadata": {
        "id": "t-K_AW3weM_5"
      },
      "source": [
        "model = create_model()\n",
        "model.compile(loss=keras.losses.categorical_crossentropy,\n",
        "              optimizer=keras.optimizers.Adam(lr=learning_rate),\n",
        "              metrics=['accuracy'])"
      ],
      "execution_count": 8,
      "outputs": []
    },
    {
      "cell_type": "code",
      "metadata": {
        "id": "69XRlJR62dsY",
        "colab": {
          "base_uri": "https://localhost:8080/"
        },
        "outputId": "397964a3-968e-4809-dacd-90c9d656dabe"
      },
      "source": [
        "callback = keras.callbacks.EarlyStopping(monitor='val_loss', patience=3, restore_best_weights=True, min_delta = .001)\n",
        "history = model.fit(X_train, y_train,\n",
        "                    batch_size=batch_size,\n",
        "                    epochs=no_epochs,\n",
        "                    verbose=verbosity,\n",
        "                    validation_split=validation_split,\n",
        "                    callbacks=[callback])"
      ],
      "execution_count": 9,
      "outputs": [
        {
          "output_type": "stream",
          "text": [
            "Epoch 1/25\n",
            "36/36 [==============================] - 10s 86ms/step - loss: 0.4479 - accuracy: 0.7674 - val_loss: 0.2714 - val_accuracy: 0.8780\n",
            "Epoch 2/25\n",
            "36/36 [==============================] - 2s 66ms/step - loss: 0.1797 - accuracy: 0.9361 - val_loss: 0.1689 - val_accuracy: 0.9338\n",
            "Epoch 3/25\n",
            "36/36 [==============================] - 2s 65ms/step - loss: 0.1368 - accuracy: 0.9471 - val_loss: 0.1252 - val_accuracy: 0.9582\n",
            "Epoch 4/25\n",
            "36/36 [==============================] - 2s 64ms/step - loss: 0.1393 - accuracy: 0.9445 - val_loss: 0.1089 - val_accuracy: 0.9617\n",
            "Epoch 5/25\n",
            "36/36 [==============================] - 2s 65ms/step - loss: 0.0920 - accuracy: 0.9708 - val_loss: 0.1075 - val_accuracy: 0.9652\n",
            "Epoch 6/25\n",
            "36/36 [==============================] - 2s 66ms/step - loss: 0.1072 - accuracy: 0.9620 - val_loss: 0.0851 - val_accuracy: 0.9721\n",
            "Epoch 7/25\n",
            "36/36 [==============================] - 3s 71ms/step - loss: 0.0970 - accuracy: 0.9696 - val_loss: 0.0864 - val_accuracy: 0.9756\n",
            "Epoch 8/25\n",
            "36/36 [==============================] - 2s 67ms/step - loss: 0.0894 - accuracy: 0.9659 - val_loss: 0.0777 - val_accuracy: 0.9791\n",
            "Epoch 9/25\n",
            "36/36 [==============================] - 2s 67ms/step - loss: 0.0582 - accuracy: 0.9820 - val_loss: 0.0873 - val_accuracy: 0.9686\n",
            "Epoch 10/25\n",
            "36/36 [==============================] - 2s 67ms/step - loss: 0.0802 - accuracy: 0.9737 - val_loss: 0.1394 - val_accuracy: 0.9303\n",
            "Epoch 11/25\n",
            "36/36 [==============================] - 2s 67ms/step - loss: 0.0612 - accuracy: 0.9818 - val_loss: 0.0698 - val_accuracy: 0.9721\n",
            "Epoch 12/25\n",
            "36/36 [==============================] - 2s 66ms/step - loss: 0.0439 - accuracy: 0.9920 - val_loss: 0.0870 - val_accuracy: 0.9686\n",
            "Epoch 13/25\n",
            "36/36 [==============================] - 2s 67ms/step - loss: 0.0525 - accuracy: 0.9809 - val_loss: 0.0815 - val_accuracy: 0.9686\n",
            "Epoch 14/25\n",
            "36/36 [==============================] - 2s 66ms/step - loss: 0.0382 - accuracy: 0.9908 - val_loss: 0.0810 - val_accuracy: 0.9721\n"
          ],
          "name": "stdout"
        }
      ]
    },
    {
      "cell_type": "code",
      "metadata": {
        "id": "kev5nM7C2fnG",
        "colab": {
          "base_uri": "https://localhost:8080/"
        },
        "outputId": "c664a56d-b2bc-4e82-cc7e-fa4744fc6945"
      },
      "source": [
        "score = model.evaluate(X_test, y_test, verbose=0)\n",
        "print(f'Test loss: {score[0]} / Test accuracy: {score[1]}')\n",
        "\n",
        "pred = model.predict(X_test)\n",
        "\n",
        "confus_mat = confusion_matrix(y_test.argmax(axis=1), pred.argmax(axis=1))\n",
        "tn, fp, fn, tp = confus_mat.ravel()\n",
        "print(confus_mat)\n",
        "print(tn, fp, fn, tp)\n",
        "#print(np.around(pred,2))"
      ],
      "execution_count": 10,
      "outputs": [
        {
          "output_type": "stream",
          "text": [
            "Test loss: 0.0481540784239769 / Test accuracy: 0.9873417615890503\n",
            "[[21  1]\n",
            " [ 0 57]]\n",
            "21 1 0 57\n"
          ],
          "name": "stdout"
        }
      ]
    },
    {
      "cell_type": "code",
      "metadata": {
        "id": "FTtm0G7k2j0X",
        "colab": {
          "base_uri": "https://localhost:8080/",
          "height": 295
        },
        "outputId": "71b88ddd-2ba1-44ff-ba55-dc3d27d53e46"
      },
      "source": [
        "#for i in range(len(history.history['accuracy'])): history.history['accuracy'][i]*=100\n",
        "#for i in range(len(history.history['val_accuracy'])): history.history['val_accuracy'][i]*=100\n",
        "plt.plot(history.history['loss'], label='Categorical crossentropy (training data)')\n",
        "plt.plot(history.history['val_loss'], label='Categorical crossentropy (validation data)')\n",
        "plt.plot(history.history['accuracy'], label='Accuracy (training data)')\n",
        "plt.plot(history.history['val_accuracy'], label='Accuracy (validation data)')\n",
        "plt.title('Model performance for 3D MNIST Keras Conv3D example')\n",
        "plt.ylabel('Loss value')\n",
        "plt.xlabel('No. epoch')\n",
        "plt.legend(loc=\"upper left\")\n",
        "plt.gca().set_ylim(0,1)\n",
        "plt.show()"
      ],
      "execution_count": 11,
      "outputs": [
        {
          "output_type": "display_data",
          "data": {
            "image/png": "[encoded data removed]",
            "text/plain": [
              "<Figure size 432x288 with 1 Axes>"
            ]
          },
          "metadata": {
            "tags": [],
            "needs_background": "light"
          }
        }
      ]
    },
    {
      "cell_type": "code",
      "metadata": {
        "id": "Yni7BMozNVAH"
      },
      "source": [
        "X=[]\n",
        "Y=[]\n",
        "for i in range(len(data)): X.append(data[i,0])\n",
        "for i in range(len(data)): Y.append(data[i,1])\n",
        "\n",
        "X = np.array(X)\n",
        "Y = np.array(Y)"
      ],
      "execution_count": null,
      "outputs": []
    },
    {
      "cell_type": "code",
      "metadata": {
        "id": "8IdGDn0tcxAV"
      },
      "source": [
        "kf = StratifiedKFold(n_splits=10, shuffle=True, random_state=0)\n",
        "for train, test in kf.split(X, Y):\n",
        "  #print(test)\n",
        "  ytest=Y[test]\n",
        "  counter=0\n",
        "  for i in range(len(ytest)): \n",
        "    if ytest[i]==1: counter+=1\n",
        "  print(counter)"
      ],
      "execution_count": null,
      "outputs": []
    },
    {
      "cell_type": "code",
      "metadata": {
        "id": "nHzH948lLrQo"
      },
      "source": [
        "final_confus_mat=np.zeros(no_classes*no_classes,dtype='int64').reshape(no_classes,no_classes)\n",
        "\n",
        "for i in range(0,1):\n",
        "  kf = StratifiedKFold(n_splits=10, shuffle=True, random_state=i)\n",
        "\n",
        "  accuracies = []\n",
        "\n",
        "  for train, test in kf.split(X, Y):\n",
        "    cvX_temp = X[train]\n",
        "    cvX_train = []\n",
        "    for i in range(len(cvX_temp)): cvX_train.append(cvX_temp[i]), cvX_train.append(np.flip(cvX_temp[i], axis=2))\n",
        "    cvX_train = np.array(cvX_train)\n",
        "\n",
        "    cvY_temp = Y[train]\n",
        "    cvY_train = []\n",
        "    for i in range(len(cvY_temp)): cvY_train.append(cvY_temp[i]), cvY_train.append(cvY_temp[i])\n",
        "    cvY_train = np.array(cvY_train)\n",
        "\n",
        "    cvX_test = X[test]\n",
        "    cvY_test = Y[test]\n",
        "    cvY_train = to_categoconrical(cvY_train).astype(np.integer)\n",
        "    cvY_test = to_categorical(cvY_test).astype(np.integer)\n",
        "\n",
        "    temp = []\n",
        "    matrices = []\n",
        "    for i in range(2):\n",
        "      CVmodel = create_model()\n",
        "      CVmodel.compile(loss=keras.losses.categorical_crossentropy,\n",
        "                      optimizer=keras.optimizers.Adam(lr=learning_rate),\n",
        "                      metrics=['accuracy'])\n",
        "      \n",
        "      callback = keras.callbacks.EarlyStopping(monitor='val_loss', patience=3, restore_best_weights=True, min_delta = .01)\n",
        "      history = CVmodel.fit([cvX_train], cvY_train,\n",
        "                        batch_size=batch_size,\n",
        "                        epochs=no_epochs,\n",
        "                        verbose=verbosity,\n",
        "                        validation_split=validation_split,\n",
        "                        callbacks=[callback])\n",
        "      \n",
        "      score = CVmodel.evaluate([cvX_test], cvY_test, verbose=0)\n",
        "      print(f'Test loss: {score[0]} / Test accuracy: {score[1]}')\n",
        "      temp.append(score[1])\n",
        "      pred = CVmodel.predict([cvX_test])\n",
        "      matrices.append(confusion_matrix(cvY_test.argmax(axis=1), pred.argmax(axis=1)))\n",
        "    print(temp)\n",
        "    print(matrices)  \n",
        "    accuracies.append(np.array(temp).max())\n",
        "    final_confus_mat = final_confus_mat + matrices[np.argmax(np.array(temp))]"
      ],
      "execution_count": null,
      "outputs": []
    },
    {
      "cell_type": "code",
      "metadata": {
        "id": "kSvtZC-rPLzu"
      },
      "source": [
        "print(final_confus_mat)\n",
        "accuracies = np.array(accuracies)\n",
        "print(accuracies.mean())\n",
        "print(accuracies.std())\n",
        "print(accuracies)\n",
        "accuracies2 = np.array(accuracies2)\n",
        "print(accuracies2.mean())\n",
        "print(accuracies2.std())\n",
        "accuracies2"
      ],
      "execution_count": null,
      "outputs": []
    },
    {
      "cell_type": "code",
      "metadata": {
        "id": "JV8eZycxYlT3"
      },
      "source": [
        "fmeans=[]\n",
        "for i in range(10):\n",
        "  fmeans.append(means[(((i+1)*10)-1)])\n",
        "  print(means[(((i+1)*10)-1)])"
      ],
      "execution_count": null,
      "outputs": []
    }
  ]
}