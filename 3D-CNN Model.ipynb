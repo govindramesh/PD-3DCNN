{
 "cells": [
  {
   "cell_type": "code",
   "execution_count": 191,
   "metadata": {},
   "outputs": [],
   "source": [
    "import random\n",
    "import tensorflow as tf\n",
    "import keras\n",
    "from keras.models import Sequential\n",
    "from keras.layers import Dense, Flatten, Conv3D, MaxPooling3D, Dropout\n",
    "from keras.utils import to_categorical\n",
    "import numpy as np\n",
    "import matplotlib.pyplot as plt"
   ]
  },
  {
   "cell_type": "code",
   "execution_count": 263,
   "metadata": {},
   "outputs": [],
   "source": [
    "NC = np.load('/Users/govindramesh/Horizon/FINAL_IMAGES/NC.npy')\n",
    "PD = np.load('/Users/govindramesh/Horizon/FINAL_IMAGES/PD.npy')\n",
    "\n",
    "data = []\n",
    "\n",
    "for i in range(len(NC)):\n",
    "    data.append([NC[i],0])\n",
    "\n",
    "for i in range(len(PD)):\n",
    "    data.append([PD[i],1])\n",
    "    \n",
    "data = np.array(data)\n",
    "np.random.shuffle(data)\n",
    "\n",
    "#X = np.concatenate((NC,PD),axis = 0)\n",
    "#y = np.concatenate((np.zeros(len(NC)),np.ones(len(PD))))"
   ]
  },
  {
   "cell_type": "code",
   "execution_count": 264,
   "metadata": {},
   "outputs": [],
   "source": [
    "X_train = []\n",
    "X_test = []\n",
    "\n",
    "for i in range(len(data)-20): X_train.append(data[i,0])\n",
    "    \n",
    "for i in range(20): X_test.append(data[-(i+1),0])\n",
    "\n",
    "X_train = np.array(X_train)\n",
    "X_test = np.array(X_test)\n",
    "\n",
    "#X_train = data[:-20,0]\n",
    "#X_test = data[-20:,0]\n",
    "\n",
    "y_train = data[:-20,1]\n",
    "y_test = data[-20:,1]\n",
    "\n",
    "y_train = to_categorical(y_train).astype(np.integer)\n",
    "y_test = to_categorical(y_test).astype(np.integer)"
   ]
  },
  {
   "cell_type": "code",
   "execution_count": 274,
   "metadata": {},
   "outputs": [],
   "source": [
    "sample_shape = (91, 23, 38, 1)\n",
    "batch_size = 64\n",
    "no_epochs = 2\n",
    "learning_rate = 0.01\n",
    "no_classes = 2\n",
    "validation_split = 0.2\n",
    "verbosity = 1"
   ]
  },
  {
   "cell_type": "code",
   "execution_count": 275,
   "metadata": {},
   "outputs": [],
   "source": [
    "model = Sequential()\n",
    "model.add(Conv3D(8, kernel_size=(5, 5, 5), padding = 'same', activation='relu', kernel_initializer='he_uniform', input_shape=sample_shape))\n",
    "model.add(MaxPooling3D(pool_size=(2, 2, 2), padding = 'same'))\n",
    "model.add(Conv3D(16, kernel_size=(5, 5, 5), padding = 'same', activation='relu', kernel_initializer='he_uniform'))\n",
    "model.add(MaxPooling3D(pool_size=(2, 2, 2), padding = 'same'))\n",
    "#model.add(Dropout(.5))\n",
    "model.add(Flatten())\n",
    "model.add(Dense(4000, activation='relu', kernel_initializer='he_uniform'))\n",
    "model.add(Dense(no_classes, activation='softmax'))"
   ]
  },
  {
   "cell_type": "code",
   "execution_count": 276,
   "metadata": {},
   "outputs": [],
   "source": [
    "model.compile(loss=keras.losses.categorical_crossentropy,\n",
    "              optimizer=keras.optimizers.Adam(lr=learning_rate),\n",
    "              metrics=['accuracy'])"
   ]
  },
  {
   "cell_type": "code",
   "execution_count": 277,
   "metadata": {},
   "outputs": [
    {
     "name": "stdout",
     "output_type": "stream",
     "text": [
      "Epoch 1/2\n",
      "3/3 [==============================] - 39s 13s/step - loss: 1025788.2500 - accuracy: 0.4539 - val_loss: 10264.0439 - val_accuracy: 0.5000\n",
      "Epoch 2/2\n",
      "3/3 [==============================] - 36s 12s/step - loss: 7388.8389 - accuracy: 0.5035 - val_loss: 468.1515 - val_accuracy: 0.5000\n"
     ]
    }
   ],
   "source": [
    "history = model.fit(X_train, y_train,\n",
    "                    batch_size=batch_size,\n",
    "                    epochs=no_epochs,\n",
    "                    verbose=verbosity,\n",
    "                    validation_split=validation_split)"
   ]
  },
  {
   "cell_type": "code",
   "execution_count": 269,
   "metadata": {},
   "outputs": [
    {
     "name": "stdout",
     "output_type": "stream",
     "text": [
      "Test loss: 2280.351318359375 / Test accuracy: 0.5\n"
     ]
    }
   ],
   "source": [
    "score = model.evaluate(X_test, y_test, verbose=0)\n",
    "print(f'Test loss: {score[0]} / Test accuracy: {score[1]}')"
   ]
  },
  {
   "cell_type": "code",
   "execution_count": 270,
   "metadata": {},
   "outputs": [
    {
     "data": {
      "image/png": "[encoded data removed]",
      "text/plain": [
       "<Figure size 432x288 with 1 Axes>"
      ]
     },
     "metadata": {},
     "output_type": "display_data"
    }
   ],
   "source": [
    "plt.plot(history.history['loss'], label='Categorical crossentropy (training data)')\n",
    "plt.plot(history.history['val_loss'], label='Categorical crossentropy (validation data)')\n",
    "plt.plot(history.history['accuracy'], label='Accuracy (training data)')\n",
    "plt.plot(history.history['val_accuracy'], label='Accuracy (validation data)')\n",
    "plt.title('Model performance for 3D MNIST Keras Conv3D example')\n",
    "plt.ylabel('Loss value')\n",
    "plt.xlabel('No. epoch')\n",
    "plt.legend(loc=\"upper left\")\n",
    "plt.show()"
   ]
  },
  {
   "cell_type": "code",
   "execution_count": null,
   "metadata": {},
   "outputs": [],
   "source": []
  }
 ],
 "metadata": {
  "kernelspec": {
   "display_name": "Python 3",
   "language": "python",
   "name": "python3"
  },
  "language_info": {
   "codemirror_mode": {
    "name": "ipython",
    "version": 3
   },
   "file_extension": ".py",
   "mimetype": "text/x-python",
   "name": "python",
   "nbconvert_exporter": "python",
   "pygments_lexer": "ipython3",
   "version": "3.6.7"
  }
 },
 "nbformat": 4,
 "nbformat_minor": 2
}
